{
 "cells": [
  {
   "cell_type": "code",
   "execution_count": null,
   "metadata": {},
   "outputs": [],
   "source": [
    "import pandas as pd\n",
    "import os\n",
    "import warnings\n",
    "from tqdm.notebook import tqdm\n",
    "import re\n",
    "import geopandas as gpd\n",
    "from shapely.geometry import Point\n",
    "import pyproj\n",
    "import matplotlib.pyplot as plt\n",
    "import matplotlib.image as mpimg\n",
    "import seaborn as sns\n",
    "import xarray as xr\n",
    "import glob\n",
    "from geopy.distance import geodesic\n",
    "import numpy as np\n",
    "from pathlib import Path\n",
    "from calendar import monthrange\n",
    "\n",
    "from scripts.plots import *\n",
    "\n",
    "\n",
    "\n",
    "warnings.filterwarnings('ignore')\n",
    "%load_ext autoreload\n",
    "%autoreload 2\n"
   ]
  },
  {
   "cell_type": "code",
   "execution_count": null,
   "metadata": {},
   "outputs": [],
   "source": [
    "seed_all(cfg.seed)\n",
    "free_up_cuda()\n",
    "\n",
    "# Plot styles:\n",
    "path_style_sheet = 'scripts/example.mplstyle'\n",
    "plt.style.use(path_style_sheet)\n",
    "\n",
    "cmap = cm.devon\n",
    "\n",
    "# For bars and lines:\n",
    "color_diff_xgb = '#4d4d4d'\n",
    "\n",
    "colors = get_cmap_hex(cm.batlow, 10)\n",
    "color_1 = colors[0]\n",
    "color_2 = '#c51b7d'"
   ]
  },
  {
   "cell_type": "markdown",
   "metadata": {},
   "source": [
    "## 1. Load in available datasets"
   ]
  },
  {
   "cell_type": "code",
   "execution_count": null,
   "metadata": {},
   "outputs": [],
   "source": [
    "data_CH = pd.read_csv('/home/mburlet/scratch/data/DATA_MB/CH_wgms_dataset_all_04_06_oggm.csv')\n",
    "data_FR = pd.read_csv('/home/mburlet/scratch/data/DATA_MB/GLACIOCLIM/csv/FR_wgms_dataset_all_oggm.csv')\n",
    "data_IT_AT = pd.read_csv('/home/mburlet/scratch/data/DATA_MB/WGMS/IT_AT/csv/IT_AT_wgms_dataset_all_oggm_with_millanv.csv')\n",
    "data_IT = data_IT_AT[data_IT_AT['POINT_ID'].str.endswith('_IT')]\n",
    "data_AT = data_IT_AT[data_IT_AT['POINT_ID'].str.endswith('_AT')]\n",
    "data_NOR = pd.read_csv('/home/mburlet/scratch/data/DATA_MB/WGMS/Norway/csv/Nor_dataset_all_oggm_with_millanv.csv')\n",
    "data_ICE = pd.read_csv('/home/mburlet/scratch/data/DATA_MB/WGMS/Iceland/csv/ICE_dataset_all_oggm_with_hugonnetdhdt.csv')\n",
    "\n",
    "display(data_NOR.head(2))"
   ]
  },
  {
   "cell_type": "code",
   "execution_count": null,
   "metadata": {},
   "outputs": [],
   "source": [
    "display('CH: ', data_CH.shape)\n",
    "display('FR: ', data_FR.shape)\n",
    "display('IT: ', data_IT.shape)\n",
    "display('AT: ', data_AT.shape)\n",
    "display('NOR: ', data_NOR.shape)\n",
    "display('ICE: ', data_ICE.shape)\n",
    "\n",
    "display(data_CH['PERIOD'].unique())\n",
    "display(data_FR['PERIOD'].unique())\n",
    "display(data_IT['PERIOD'].unique())\n",
    "display(data_AT['PERIOD'].unique())\n",
    "display(data_NOR['PERIOD'].unique())\n",
    "display(data_ICE['PERIOD'].unique())"
   ]
  },
  {
   "cell_type": "markdown",
   "metadata": {},
   "source": [
    "#### Comparing XGBoost and NN"
   ]
  },
  {
   "cell_type": "code",
   "execution_count": null,
   "metadata": {},
   "outputs": [],
   "source": [
    "base_dir = '/home/mburlet/scratch/data/DATA_MB/Outputs'\n",
    "\n",
    "subdirs = [f for f in os.listdir(base_dir) if os.path.isdir(os.path.join(base_dir, f))]\n",
    "\n",
    "subdirs.sort()\n",
    "\n",
    "for subdir in subdirs:\n",
    "    xgb_image_path = os.path.join(base_dir, subdir, '5.png')\n",
    "    nn_image_path = os.path.join(base_dir, subdir, 'NN', '1.png')\n",
    "    \n",
    "    if os.path.exists(xgb_image_path) and os.path.exists(nn_image_path):\n",
    "    \n",
    "        fig, axes = plt.subplots(1, 2, figsize=(18, 8))\n",
    "        \n",
    "        # Load and display XGBoost image\n",
    "        img_xgb = mpimg.imread(xgb_image_path)\n",
    "        axes[0].imshow(img_xgb)\n",
    "        axes[0].axis('off')\n",
    "        axes[0].set_title(f'XGBoost: {subdir}')\n",
    "        \n",
    "        # Load and display Neural Network image\n",
    "        img_nn = mpimg.imread(nn_image_path)\n",
    "        axes[1].imshow(img_nn)\n",
    "        axes[1].axis('off')\n",
    "        axes[1].set_title(f'Neural Network: {subdir}')\n",
    "        \n",
    "        fig.suptitle(f'Comparison for {subdir}', fontsize=16)\n",
    "        \n",
    "        plt.tight_layout()\n",
    "        plt.show()\n",
    "    else:\n",
    "        print(f\"Missing images for {subdir}. XGB exists: {os.path.exists(xgb_image_path)}, NN exists: {os.path.exists(nn_image_path)}\")"
   ]
  }
 ],
 "metadata": {
  "kernelspec": {
   "display_name": "MassBalanceMachine",
   "language": "python",
   "name": "python3"
  },
  "language_info": {
   "codemirror_mode": {
    "name": "ipython",
    "version": 3
   },
   "file_extension": ".py",
   "mimetype": "text/x-python",
   "name": "python",
   "nbconvert_exporter": "python",
   "pygments_lexer": "ipython3",
   "version": "3.11.0"
  }
 },
 "nbformat": 4,
 "nbformat_minor": 2
}
