{
 "cells": [
  {
   "cell_type": "code",
   "execution_count": 1,
   "metadata": {},
   "outputs": [],
   "source": [
    "import pandas as pd\n",
    "import os\n",
    "import warnings\n",
    "from tqdm.notebook import tqdm\n",
    "import re\n",
    "import geopandas as gpd\n",
    "from shapely.geometry import Point\n",
    "import pyproj\n",
    "import matplotlib.pyplot as plt\n",
    "import matplotlib.image as mpimg\n",
    "import seaborn as sns\n",
    "import xarray as xr\n",
    "import glob\n",
    "from geopy.distance import geodesic\n",
    "import numpy as np\n",
    "from pathlib import Path\n",
    "from calendar import monthrange\n",
    "\n",
    "from scripts.plots import *\n",
    "\n",
    "\n",
    "\n",
    "warnings.filterwarnings('ignore')\n",
    "%load_ext autoreload\n",
    "%autoreload 2\n"
   ]
  },
  {
   "cell_type": "code",
   "execution_count": 2,
   "metadata": {},
   "outputs": [
    {
     "ename": "NameError",
     "evalue": "name 'cfg' is not defined",
     "output_type": "error",
     "traceback": [
      "\u001b[0;31m---------------------------------------------------------------------------\u001b[0m",
      "\u001b[0;31mNameError\u001b[0m                                 Traceback (most recent call last)",
      "Cell \u001b[0;32mIn[2], line 1\u001b[0m\n\u001b[0;32m----> 1\u001b[0m seed_all(\u001b[43mcfg\u001b[49m\u001b[38;5;241m.\u001b[39mseed)\n\u001b[1;32m      2\u001b[0m free_up_cuda()\n\u001b[1;32m      4\u001b[0m \u001b[38;5;66;03m# Plot styles:\u001b[39;00m\n",
      "\u001b[0;31mNameError\u001b[0m: name 'cfg' is not defined"
     ]
    }
   ],
   "source": [
    "seed_all(cfg.seed)\n",
    "free_up_cuda()\n",
    "\n",
    "# Plot styles:\n",
    "path_style_sheet = 'scripts/example.mplstyle'\n",
    "plt.style.use(path_style_sheet)\n",
    "\n",
    "cmap = cm.devon\n",
    "\n",
    "# For bars and lines:\n",
    "color_diff_xgb = '#4d4d4d'\n",
    "\n",
    "colors = get_cmap_hex(cm.batlow, 10)\n",
    "color_1 = colors[0]\n",
    "color_2 = '#c51b7d'"
   ]
  },
  {
   "cell_type": "markdown",
   "metadata": {},
   "source": [
    "## 1. Load in available datasets"
   ]
  },
  {
   "cell_type": "code",
   "execution_count": 3,
   "metadata": {},
   "outputs": [
    {
     "data": {
      "text/html": [
       "<div>\n",
       "<style scoped>\n",
       "    .dataframe tbody tr th:only-of-type {\n",
       "        vertical-align: middle;\n",
       "    }\n",
       "\n",
       "    .dataframe tbody tr th {\n",
       "        vertical-align: top;\n",
       "    }\n",
       "\n",
       "    .dataframe thead th {\n",
       "        text-align: right;\n",
       "    }\n",
       "</style>\n",
       "<table border=\"1\" class=\"dataframe\">\n",
       "  <thead>\n",
       "    <tr style=\"text-align: right;\">\n",
       "      <th></th>\n",
       "      <th>POINT_LAT</th>\n",
       "      <th>POINT_LON</th>\n",
       "      <th>POINT_ELEVATION</th>\n",
       "      <th>FROM_DATE</th>\n",
       "      <th>TO_DATE</th>\n",
       "      <th>POINT_BALANCE</th>\n",
       "      <th>PERIOD</th>\n",
       "      <th>RGIId</th>\n",
       "      <th>YEAR</th>\n",
       "      <th>GLACIER</th>\n",
       "      <th>DATA_MODIFICATION</th>\n",
       "      <th>POINT_ID</th>\n",
       "      <th>aspect</th>\n",
       "      <th>slope</th>\n",
       "      <th>topo</th>\n",
       "      <th>hugonnet_dhdt</th>\n",
       "      <th>consensus_ice_thickness</th>\n",
       "      <th>millan_v</th>\n",
       "    </tr>\n",
       "  </thead>\n",
       "  <tbody>\n",
       "    <tr>\n",
       "      <th>0</th>\n",
       "      <td>70.12589</td>\n",
       "      <td>21.77702</td>\n",
       "      <td>471</td>\n",
       "      <td>20120925</td>\n",
       "      <td>20131107</td>\n",
       "      <td>-4.92</td>\n",
       "      <td>annual</td>\n",
       "      <td>RGI60-08.01258</td>\n",
       "      <td>2013</td>\n",
       "      <td>Langfjordjoekulen</td>\n",
       "      <td>NaN</td>\n",
       "      <td>Langfjordjoekulen_2013_annual_70.12589_21.7770...</td>\n",
       "      <td>36.073272</td>\n",
       "      <td>15.972541</td>\n",
       "      <td>425.458893</td>\n",
       "      <td>-3.314563</td>\n",
       "      <td>96.980293</td>\n",
       "      <td>NaN</td>\n",
       "    </tr>\n",
       "    <tr>\n",
       "      <th>1</th>\n",
       "      <td>70.12521</td>\n",
       "      <td>21.76711</td>\n",
       "      <td>540</td>\n",
       "      <td>20120925</td>\n",
       "      <td>20131107</td>\n",
       "      <td>-3.83</td>\n",
       "      <td>annual</td>\n",
       "      <td>RGI60-08.01258</td>\n",
       "      <td>2013</td>\n",
       "      <td>Langfjordjoekulen</td>\n",
       "      <td>NaN</td>\n",
       "      <td>Langfjordjoekulen_2013_annual_70.12521_21.7671...</td>\n",
       "      <td>65.884818</td>\n",
       "      <td>12.091276</td>\n",
       "      <td>523.195557</td>\n",
       "      <td>-2.681456</td>\n",
       "      <td>100.969521</td>\n",
       "      <td>NaN</td>\n",
       "    </tr>\n",
       "  </tbody>\n",
       "</table>\n",
       "</div>"
      ],
      "text/plain": [
       "   POINT_LAT  POINT_LON  POINT_ELEVATION  FROM_DATE   TO_DATE  POINT_BALANCE  \\\n",
       "0   70.12589   21.77702              471   20120925  20131107          -4.92   \n",
       "1   70.12521   21.76711              540   20120925  20131107          -3.83   \n",
       "\n",
       "   PERIOD           RGIId  YEAR            GLACIER DATA_MODIFICATION  \\\n",
       "0  annual  RGI60-08.01258  2013  Langfjordjoekulen               NaN   \n",
       "1  annual  RGI60-08.01258  2013  Langfjordjoekulen               NaN   \n",
       "\n",
       "                                            POINT_ID     aspect      slope  \\\n",
       "0  Langfjordjoekulen_2013_annual_70.12589_21.7770...  36.073272  15.972541   \n",
       "1  Langfjordjoekulen_2013_annual_70.12521_21.7671...  65.884818  12.091276   \n",
       "\n",
       "         topo  hugonnet_dhdt  consensus_ice_thickness  millan_v  \n",
       "0  425.458893      -3.314563                96.980293       NaN  \n",
       "1  523.195557      -2.681456               100.969521       NaN  "
      ]
     },
     "metadata": {},
     "output_type": "display_data"
    }
   ],
   "source": [
    "data_CH = pd.read_csv('/home/mburlet/scratch/data/DATA_MB/CH_wgms_dataset_all_04_06_oggm.csv')\n",
    "data_FR = pd.read_csv('/home/mburlet/scratch/data/DATA_MB/GLACIOCLIM/csv/FR_wgms_dataset_all_oggm.csv')\n",
    "data_IT_AT = pd.read_csv('/home/mburlet/scratch/data/DATA_MB/WGMS/IT_AT/csv/IT_AT_wgms_dataset_all_oggm_with_millanv.csv')\n",
    "data_IT = data_IT_AT[data_IT_AT['POINT_ID'].str.endswith('_IT')]\n",
    "data_AT = data_IT_AT[data_IT_AT['POINT_ID'].str.endswith('_AT')]\n",
    "data_NOR = pd.read_csv('/home/mburlet/scratch/data/DATA_MB/WGMS/Norway/csv/Nor_dataset_all_oggm_with_millanv.csv')\n",
    "data_ICE = pd.read_csv('/home/mburlet/scratch/data/DATA_MB/WGMS/Iceland/csv/ICE_dataset_all_oggm_with_hugonnetdhdt.csv')\n",
    "\n",
    "display(data_NOR.head(2))"
   ]
  },
  {
   "cell_type": "code",
   "execution_count": 10,
   "metadata": {},
   "outputs": [
    {
     "data": {
      "text/plain": [
       "'CH: '"
      ]
     },
     "metadata": {},
     "output_type": "display_data"
    },
    {
     "data": {
      "text/plain": [
       "(33358, 20)"
      ]
     },
     "metadata": {},
     "output_type": "display_data"
    },
    {
     "data": {
      "text/plain": [
       "'FR: '"
      ]
     },
     "metadata": {},
     "output_type": "display_data"
    },
    {
     "data": {
      "text/plain": [
       "(10495, 19)"
      ]
     },
     "metadata": {},
     "output_type": "display_data"
    },
    {
     "data": {
      "text/plain": [
       "'IT: '"
      ]
     },
     "metadata": {},
     "output_type": "display_data"
    },
    {
     "data": {
      "text/plain": [
       "(3158, 18)"
      ]
     },
     "metadata": {},
     "output_type": "display_data"
    },
    {
     "data": {
      "text/plain": [
       "'AT: '"
      ]
     },
     "metadata": {},
     "output_type": "display_data"
    },
    {
     "data": {
      "text/plain": [
       "(1928, 18)"
      ]
     },
     "metadata": {},
     "output_type": "display_data"
    },
    {
     "data": {
      "text/plain": [
       "'NOR: '"
      ]
     },
     "metadata": {},
     "output_type": "display_data"
    },
    {
     "data": {
      "text/plain": [
       "(6275, 18)"
      ]
     },
     "metadata": {},
     "output_type": "display_data"
    },
    {
     "data": {
      "text/plain": [
       "'ICE: '"
      ]
     },
     "metadata": {},
     "output_type": "display_data"
    },
    {
     "data": {
      "text/plain": [
       "(6549, 18)"
      ]
     },
     "metadata": {},
     "output_type": "display_data"
    },
    {
     "data": {
      "text/plain": [
       "array(['annual', 'winter'], dtype=object)"
      ]
     },
     "metadata": {},
     "output_type": "display_data"
    },
    {
     "data": {
      "text/plain": [
       "array(['annual', 'summer', 'winter'], dtype=object)"
      ]
     },
     "metadata": {},
     "output_type": "display_data"
    },
    {
     "data": {
      "text/plain": [
       "array(['annual', 'winter', 'summer'], dtype=object)"
      ]
     },
     "metadata": {},
     "output_type": "display_data"
    },
    {
     "data": {
      "text/plain": [
       "array(['annual', 'winter', 'summer'], dtype=object)"
      ]
     },
     "metadata": {},
     "output_type": "display_data"
    },
    {
     "data": {
      "text/plain": [
       "array(['annual', 'winter'], dtype=object)"
      ]
     },
     "metadata": {},
     "output_type": "display_data"
    },
    {
     "data": {
      "text/plain": [
       "array(['annual', 'winter'], dtype=object)"
      ]
     },
     "metadata": {},
     "output_type": "display_data"
    }
   ],
   "source": [
    "display('CH: ', data_CH.shape)\n",
    "display('FR: ', data_FR.shape)\n",
    "display('IT: ', data_IT.shape)\n",
    "display('AT: ', data_AT.shape)\n",
    "display('NOR: ', data_NOR.shape)\n",
    "display('ICE: ', data_ICE.shape)\n",
    "\n",
    "display(data_CH['PERIOD'].unique())\n",
    "display(data_FR['PERIOD'].unique())\n",
    "display(data_IT['PERIOD'].unique())\n",
    "display(data_AT['PERIOD'].unique())\n",
    "display(data_NOR['PERIOD'].unique())\n",
    "display(data_ICE['PERIOD'].unique())"
   ]
  },
  {
   "cell_type": "markdown",
   "metadata": {},
   "source": [
    "#### Comparing XGBoost and NN"
   ]
  },
  {
   "cell_type": "code",
   "execution_count": null,
   "metadata": {},
   "outputs": [],
   "source": [
    "base_dir = '/home/mburlet/scratch/data/DATA_MB/Outputs'\n",
    "\n",
    "subdirs = [f for f in os.listdir(base_dir) if os.path.isdir(os.path.join(base_dir, f))]\n",
    "\n",
    "subdirs.sort()\n",
    "\n",
    "for subdir in subdirs:\n",
    "    xgb_image_path = os.path.join(base_dir, subdir, '5.png')\n",
    "    nn_image_path = os.path.join(base_dir, subdir, 'NN', '1.png')\n",
    "    \n",
    "    if os.path.exists(xgb_image_path) and os.path.exists(nn_image_path):\n",
    "    \n",
    "        fig, axes = plt.subplots(1, 2, figsize=(18, 8))\n",
    "        \n",
    "        # Load and display XGBoost image\n",
    "        img_xgb = mpimg.imread(xgb_image_path)\n",
    "        axes[0].imshow(img_xgb)\n",
    "        axes[0].axis('off')\n",
    "        axes[0].set_title(f'XGBoost: {subdir}')\n",
    "        \n",
    "        # Load and display Neural Network image\n",
    "        img_nn = mpimg.imread(nn_image_path)\n",
    "        axes[1].imshow(img_nn)\n",
    "        axes[1].axis('off')\n",
    "        axes[1].set_title(f'Neural Network: {subdir}')\n",
    "        \n",
    "        fig.suptitle(f'Comparison for {subdir}', fontsize=16)\n",
    "        \n",
    "        plt.tight_layout()\n",
    "        plt.show()\n",
    "    else:\n",
    "        print(f\"Missing images for {subdir}. XGB exists: {os.path.exists(xgb_image_path)}, NN exists: {os.path.exists(nn_image_path)}\")"
   ]
  }
 ],
 "metadata": {
  "kernelspec": {
   "display_name": "MassBalanceMachine",
   "language": "python",
   "name": "python3"
  },
  "language_info": {
   "codemirror_mode": {
    "name": "ipython",
    "version": 3
   },
   "file_extension": ".py",
   "mimetype": "text/x-python",
   "name": "python",
   "nbconvert_exporter": "python",
   "pygments_lexer": "ipython3",
   "version": "3.11.0"
  }
 },
 "nbformat": 4,
 "nbformat_minor": 2
}
